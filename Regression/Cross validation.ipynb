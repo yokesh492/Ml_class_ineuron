{
 "cells": [
  {
   "cell_type": "code",
   "execution_count": 1,
   "id": "7187bb98",
   "metadata": {},
   "outputs": [],
   "source": [
    "import numpy as np\n",
    "import pandas as pd\n",
    "import seaborn as sns\n",
    "import matplotlib.pyplot as plt\n"
   ]
  },
  {
   "cell_type": "code",
   "execution_count": 2,
   "id": "a6cf2041",
   "metadata": {},
   "outputs": [
    {
     "data": {
      "text/html": [
       "<div>\n",
       "<style scoped>\n",
       "    .dataframe tbody tr th:only-of-type {\n",
       "        vertical-align: middle;\n",
       "    }\n",
       "\n",
       "    .dataframe tbody tr th {\n",
       "        vertical-align: top;\n",
       "    }\n",
       "\n",
       "    .dataframe thead th {\n",
       "        text-align: right;\n",
       "    }\n",
       "</style>\n",
       "<table border=\"1\" class=\"dataframe\">\n",
       "  <thead>\n",
       "    <tr style=\"text-align: right;\">\n",
       "      <th></th>\n",
       "      <th>TV</th>\n",
       "      <th>radio</th>\n",
       "      <th>newspaper</th>\n",
       "      <th>sales</th>\n",
       "    </tr>\n",
       "  </thead>\n",
       "  <tbody>\n",
       "    <tr>\n",
       "      <th>0</th>\n",
       "      <td>230.1</td>\n",
       "      <td>37.8</td>\n",
       "      <td>69.2</td>\n",
       "      <td>22.1</td>\n",
       "    </tr>\n",
       "    <tr>\n",
       "      <th>1</th>\n",
       "      <td>44.5</td>\n",
       "      <td>39.3</td>\n",
       "      <td>45.1</td>\n",
       "      <td>10.4</td>\n",
       "    </tr>\n",
       "    <tr>\n",
       "      <th>2</th>\n",
       "      <td>17.2</td>\n",
       "      <td>45.9</td>\n",
       "      <td>69.3</td>\n",
       "      <td>9.3</td>\n",
       "    </tr>\n",
       "    <tr>\n",
       "      <th>3</th>\n",
       "      <td>151.5</td>\n",
       "      <td>41.3</td>\n",
       "      <td>58.5</td>\n",
       "      <td>18.5</td>\n",
       "    </tr>\n",
       "    <tr>\n",
       "      <th>4</th>\n",
       "      <td>180.8</td>\n",
       "      <td>10.8</td>\n",
       "      <td>58.4</td>\n",
       "      <td>12.9</td>\n",
       "    </tr>\n",
       "  </tbody>\n",
       "</table>\n",
       "</div>"
      ],
      "text/plain": [
       "      TV  radio  newspaper  sales\n",
       "0  230.1   37.8       69.2   22.1\n",
       "1   44.5   39.3       45.1   10.4\n",
       "2   17.2   45.9       69.3    9.3\n",
       "3  151.5   41.3       58.5   18.5\n",
       "4  180.8   10.8       58.4   12.9"
      ]
     },
     "execution_count": 2,
     "metadata": {},
     "output_type": "execute_result"
    }
   ],
   "source": [
    "df = pd.read_csv(r'D:\\ml_ineuron\\modular\\Ml_class_ineuron\\data\\Advertising.csv')\n",
    "df.head()"
   ]
  },
  {
   "cell_type": "code",
   "execution_count": 3,
   "id": "98d0957b",
   "metadata": {},
   "outputs": [
    {
     "data": {
      "text/html": [
       "<div>\n",
       "<style scoped>\n",
       "    .dataframe tbody tr th:only-of-type {\n",
       "        vertical-align: middle;\n",
       "    }\n",
       "\n",
       "    .dataframe tbody tr th {\n",
       "        vertical-align: top;\n",
       "    }\n",
       "\n",
       "    .dataframe thead th {\n",
       "        text-align: right;\n",
       "    }\n",
       "</style>\n",
       "<table border=\"1\" class=\"dataframe\">\n",
       "  <thead>\n",
       "    <tr style=\"text-align: right;\">\n",
       "      <th></th>\n",
       "      <th>TV</th>\n",
       "      <th>radio</th>\n",
       "      <th>newspaper</th>\n",
       "    </tr>\n",
       "  </thead>\n",
       "  <tbody>\n",
       "    <tr>\n",
       "      <th>0</th>\n",
       "      <td>230.1</td>\n",
       "      <td>37.8</td>\n",
       "      <td>69.2</td>\n",
       "    </tr>\n",
       "    <tr>\n",
       "      <th>1</th>\n",
       "      <td>44.5</td>\n",
       "      <td>39.3</td>\n",
       "      <td>45.1</td>\n",
       "    </tr>\n",
       "    <tr>\n",
       "      <th>2</th>\n",
       "      <td>17.2</td>\n",
       "      <td>45.9</td>\n",
       "      <td>69.3</td>\n",
       "    </tr>\n",
       "    <tr>\n",
       "      <th>3</th>\n",
       "      <td>151.5</td>\n",
       "      <td>41.3</td>\n",
       "      <td>58.5</td>\n",
       "    </tr>\n",
       "    <tr>\n",
       "      <th>4</th>\n",
       "      <td>180.8</td>\n",
       "      <td>10.8</td>\n",
       "      <td>58.4</td>\n",
       "    </tr>\n",
       "    <tr>\n",
       "      <th>...</th>\n",
       "      <td>...</td>\n",
       "      <td>...</td>\n",
       "      <td>...</td>\n",
       "    </tr>\n",
       "    <tr>\n",
       "      <th>195</th>\n",
       "      <td>38.2</td>\n",
       "      <td>3.7</td>\n",
       "      <td>13.8</td>\n",
       "    </tr>\n",
       "    <tr>\n",
       "      <th>196</th>\n",
       "      <td>94.2</td>\n",
       "      <td>4.9</td>\n",
       "      <td>8.1</td>\n",
       "    </tr>\n",
       "    <tr>\n",
       "      <th>197</th>\n",
       "      <td>177.0</td>\n",
       "      <td>9.3</td>\n",
       "      <td>6.4</td>\n",
       "    </tr>\n",
       "    <tr>\n",
       "      <th>198</th>\n",
       "      <td>283.6</td>\n",
       "      <td>42.0</td>\n",
       "      <td>66.2</td>\n",
       "    </tr>\n",
       "    <tr>\n",
       "      <th>199</th>\n",
       "      <td>232.1</td>\n",
       "      <td>8.6</td>\n",
       "      <td>8.7</td>\n",
       "    </tr>\n",
       "  </tbody>\n",
       "</table>\n",
       "<p>200 rows × 3 columns</p>\n",
       "</div>"
      ],
      "text/plain": [
       "        TV  radio  newspaper\n",
       "0    230.1   37.8       69.2\n",
       "1     44.5   39.3       45.1\n",
       "2     17.2   45.9       69.3\n",
       "3    151.5   41.3       58.5\n",
       "4    180.8   10.8       58.4\n",
       "..     ...    ...        ...\n",
       "195   38.2    3.7       13.8\n",
       "196   94.2    4.9        8.1\n",
       "197  177.0    9.3        6.4\n",
       "198  283.6   42.0       66.2\n",
       "199  232.1    8.6        8.7\n",
       "\n",
       "[200 rows x 3 columns]"
      ]
     },
     "execution_count": 3,
     "metadata": {},
     "output_type": "execute_result"
    }
   ],
   "source": [
    "X = df.drop('sales', axis=1)\n",
    "X"
   ]
  },
  {
   "cell_type": "code",
   "execution_count": 4,
   "id": "0e256e3d",
   "metadata": {},
   "outputs": [
    {
     "data": {
      "text/plain": [
       "0      22.1\n",
       "1      10.4\n",
       "2       9.3\n",
       "3      18.5\n",
       "4      12.9\n",
       "       ... \n",
       "195     7.6\n",
       "196     9.7\n",
       "197    12.8\n",
       "198    25.5\n",
       "199    13.4\n",
       "Name: sales, Length: 200, dtype: float64"
      ]
     },
     "execution_count": 4,
     "metadata": {},
     "output_type": "execute_result"
    }
   ],
   "source": [
    "y = df['sales']\n",
    "y"
   ]
  },
  {
   "cell_type": "markdown",
   "id": "e3f5cac4",
   "metadata": {},
   "source": [
    "# Testing the hyperparameter with Ridge model"
   ]
  },
  {
   "cell_type": "code",
   "execution_count": 5,
   "id": "b6fb3f09",
   "metadata": {},
   "outputs": [],
   "source": [
    "from sklearn.model_selection import train_test_split\n",
    "from sklearn.preprocessing import StandardScaler"
   ]
  },
  {
   "cell_type": "code",
   "execution_count": 6,
   "id": "a7c43b52",
   "metadata": {},
   "outputs": [],
   "source": [
    "X_train, X_test, y_train, y_test = train_test_split(X,y, test_size=0.3, random_state=101)"
   ]
  },
  {
   "cell_type": "code",
   "execution_count": 7,
   "id": "2e59cc28",
   "metadata": {},
   "outputs": [],
   "source": [
    "scaler = StandardScaler()\n",
    "scaler.fit(X_train)\n",
    "X_train = scaler.transform(X_train)\n",
    "X_test = scaler.transform(X_test)"
   ]
  },
  {
   "cell_type": "code",
   "execution_count": 8,
   "id": "bf41f5da",
   "metadata": {},
   "outputs": [],
   "source": [
    "from sklearn.linear_model import Ridge \n",
    "from sklearn.metrics import mean_squared_error"
   ]
  },
  {
   "cell_type": "code",
   "execution_count": 10,
   "id": "c5d5d04c",
   "metadata": {},
   "outputs": [],
   "source": [
    "model1 = Ridge(alpha=100)\n",
    "model1.fit(X_train,y_train)\n",
    "pred = model1.predict(X_test)"
   ]
  },
  {
   "cell_type": "code",
   "execution_count": 11,
   "id": "2d14dfa8",
   "metadata": {},
   "outputs": [
    {
     "data": {
      "text/plain": [
       "2.7095711448556075"
      ]
     },
     "execution_count": 11,
     "metadata": {},
     "output_type": "execute_result"
    }
   ],
   "source": [
    "mean_squared_error(y_test,pred,squared=False)"
   ]
  },
  {
   "cell_type": "code",
   "execution_count": 12,
   "id": "af59714a",
   "metadata": {},
   "outputs": [
    {
     "data": {
      "text/plain": [
       "1.5228334050147283"
      ]
     },
     "execution_count": 12,
     "metadata": {},
     "output_type": "execute_result"
    }
   ],
   "source": [
    "model2 = Ridge(alpha = 1)\n",
    "model2.fit(X_train,y_train)\n",
    "pred2 = model2.predict(X_test)\n",
    "mean_squared_error(y_test,pred2,squared=False) # from the 2 model we can say that changing the hyperparametere will give us good result so lets do cross validation and chck that"
   ]
  },
  {
   "cell_type": "markdown",
   "id": "6250e5d5",
   "metadata": {},
   "source": [
    "# Cross validation manual method"
   ]
  },
  {
   "cell_type": "code",
   "execution_count": 13,
   "id": "ce05b044",
   "metadata": {},
   "outputs": [],
   "source": [
    "X_train, X_other, y_train, y_other = train_test_split(X,y, test_size=0.3, random_state=101)"
   ]
  },
  {
   "cell_type": "code",
   "execution_count": 14,
   "id": "7da8bd1c",
   "metadata": {},
   "outputs": [],
   "source": [
    "# test size = 0.5( 50% of the 30% other data)\n",
    "X_eval, X_test, y_eval, y_test = train_test_split(X_other,y_other, test_size=0.5, random_state=101)"
   ]
  },
  {
   "cell_type": "code",
   "execution_count": 15,
   "id": "9fcf8ace",
   "metadata": {},
   "outputs": [
    {
     "data": {
      "text/plain": [
       "140"
      ]
     },
     "execution_count": 15,
     "metadata": {},
     "output_type": "execute_result"
    }
   ],
   "source": [
    "len(X_train)"
   ]
  },
  {
   "cell_type": "code",
   "execution_count": 16,
   "id": "5b91956f",
   "metadata": {},
   "outputs": [
    {
     "data": {
      "text/plain": [
       "60"
      ]
     },
     "execution_count": 16,
     "metadata": {},
     "output_type": "execute_result"
    }
   ],
   "source": [
    "len(X_other)"
   ]
  },
  {
   "cell_type": "code",
   "execution_count": 17,
   "id": "93f083bd",
   "metadata": {},
   "outputs": [
    {
     "name": "stdout",
     "output_type": "stream",
     "text": [
      "30\n"
     ]
    },
    {
     "data": {
      "text/plain": [
       "30"
      ]
     },
     "execution_count": 17,
     "metadata": {},
     "output_type": "execute_result"
    }
   ],
   "source": [
    "#again seprating the other set into 50% evaluation(validation / holdout ) and 50% test data \n",
    "print(len(X_eval))\n",
    "len(X_test)"
   ]
  },
  {
   "cell_type": "code",
   "execution_count": 18,
   "id": "ae9a2f22",
   "metadata": {},
   "outputs": [],
   "source": [
    "X_train = scaler.transform(X_train)\n",
    "X_test = scaler.transform(X_test)\n",
    "X_eval = scaler.transform(X_eval)"
   ]
  },
  {
   "cell_type": "code",
   "execution_count": 19,
   "id": "7f227917",
   "metadata": {},
   "outputs": [
    {
     "data": {
      "text/plain": [
       "2.705568601758948"
      ]
     },
     "execution_count": 19,
     "metadata": {},
     "output_type": "execute_result"
    }
   ],
   "source": [
    "# lets check the error of model by the validation data if error is less then we can implement into the test data\n",
    "model3 = Ridge(alpha = 100 )\n",
    "model3.fit(X_train, y_train)\n",
    "pred3 = model3.predict(X_eval)\n",
    "mean_squared_error(y_eval, pred3 , squared = False)"
   ]
  },
  {
   "cell_type": "code",
   "execution_count": 20,
   "id": "f97bc056",
   "metadata": {},
   "outputs": [
    {
     "data": {
      "text/plain": [
       "1.5439504768796781"
      ]
     },
     "execution_count": 20,
     "metadata": {},
     "output_type": "execute_result"
    }
   ],
   "source": [
    "#lest check with alpha 1 \n",
    "model4 = Ridge(alpha=1)\n",
    "model4.fit(X_train, y_train)\n",
    "pred4 = model4.predict(X_eval)\n",
    "mean_squared_error(y_eval, pred4 , squared=False)"
   ]
  },
  {
   "cell_type": "code",
   "execution_count": 21,
   "id": "1d92e5d3",
   "metadata": {},
   "outputs": [
    {
     "data": {
      "text/plain": [
       "1.5014193564093001"
      ]
     },
     "execution_count": 21,
     "metadata": {},
     "output_type": "execute_result"
    }
   ],
   "source": [
    "# from the 2 testing with the valildation datasets alpha with 1 is better so lets do the final prediction \n",
    "final_model = Ridge(alpha=1)\n",
    "final_model.fit(X_train, y_train)\n",
    "final_pred = final_model.predict(X_test)\n",
    "mean_squared_error(y_test, final_pred , squared = False)"
   ]
  },
  {
   "cell_type": "markdown",
   "id": "57913e1d",
   "metadata": {},
   "source": [
    "# with scikit learn "
   ]
  },
  {
   "cell_type": "code",
   "execution_count": 22,
   "id": "a0f10f3f",
   "metadata": {},
   "outputs": [],
   "source": [
    "## CREATE X and y\n",
    "X = df.drop('sales',axis=1)\n",
    "y = df['sales']\n",
    "\n",
    "# TRAIN TEST SPLIT\n",
    "from sklearn.model_selection import train_test_split\n",
    "X_train, X_test, y_train, y_test = train_test_split(X, y, test_size=0.3, random_state=101)\n",
    "\n",
    "# SCALE DATA\n",
    "from sklearn.preprocessing import StandardScaler\n",
    "scaler = StandardScaler()\n",
    "scaler.fit(X_train)\n",
    "X_train = scaler.transform(X_train)\n",
    "X_test = scaler.transform(X_test)"
   ]
  },
  {
   "cell_type": "code",
   "execution_count": 25,
   "id": "acaea036",
   "metadata": {},
   "outputs": [
    {
     "data": {
      "text/plain": [
       "array([ -9.32552967,  -4.9449624 , -11.39665242,  -7.0242106 ,\n",
       "        -8.38562723])"
      ]
     },
     "execution_count": 25,
     "metadata": {},
     "output_type": "execute_result"
    }
   ],
   "source": [
    "from sklearn.model_selection import cross_val_score\n",
    "model = Ridge(alpha = 100)\n",
    "scores = cross_val_score(model, X_train, y_train,scoring='neg_mean_squared_error', cv=5)\n",
    "scores"
   ]
  },
  {
   "cell_type": "code",
   "execution_count": 26,
   "id": "cfe3acbb",
   "metadata": {},
   "outputs": [
    {
     "data": {
      "text/plain": [
       "8.215396464543607"
      ]
     },
     "execution_count": 26,
     "metadata": {},
     "output_type": "execute_result"
    }
   ],
   "source": [
    "abs(scores.mean())"
   ]
  },
  {
   "cell_type": "code",
   "execution_count": 27,
   "id": "3ac3462e",
   "metadata": {},
   "outputs": [
    {
     "data": {
      "text/plain": [
       "array([-3.15513238, -1.58086982, -5.40455562, -2.21654481, -4.36709384])"
      ]
     },
     "execution_count": 27,
     "metadata": {},
     "output_type": "execute_result"
    }
   ],
   "source": [
    "model_2 = Ridge(alpha =1 )\n",
    "scores3 = cross_val_score(model2, X_train, y_train,scoring='neg_mean_squared_error', cv=5)\n",
    "scores3"
   ]
  },
  {
   "cell_type": "code",
   "execution_count": 28,
   "id": "1eafbcc3",
   "metadata": {},
   "outputs": [
    {
     "data": {
      "text/plain": [
       "3.344839296530695"
      ]
     },
     "execution_count": 28,
     "metadata": {},
     "output_type": "execute_result"
    }
   ],
   "source": [
    "abs(scores3.mean())"
   ]
  },
  {
   "cell_type": "code",
   "execution_count": 29,
   "id": "d0d798f6",
   "metadata": {},
   "outputs": [
    {
     "data": {
      "text/plain": [
       "1.5228334050147283"
      ]
     },
     "execution_count": 29,
     "metadata": {},
     "output_type": "execute_result"
    }
   ],
   "source": [
    "# model_2 better we can select the model_2 and predict\n",
    "model_2.fit(X_train, y_train)\n",
    "final_ped = model_2.predict(X_test)\n",
    "mean_squared_error(y_test,final_ped,squared=False)"
   ]
  },
  {
   "cell_type": "markdown",
   "id": "8ff34e60",
   "metadata": {},
   "source": [
    "# with Cross_validate method"
   ]
  },
  {
   "cell_type": "code",
   "execution_count": 30,
   "id": "c0839adc",
   "metadata": {},
   "outputs": [],
   "source": [
    "#Evaluate metric(s) by cross-validation and also record fit/score times.\n",
    "from sklearn.model_selection import cross_validate\n"
   ]
  },
  {
   "cell_type": "code",
   "execution_count": 37,
   "id": "634d030c",
   "metadata": {},
   "outputs": [],
   "source": [
    "model = Ridge(alpha=100)\n",
    "scores = cross_validate(model, X_train, y_train, scoring= ['neg_mean_squared_error', 'neg_mean_absolute_error'], cv=5)"
   ]
  },
  {
   "cell_type": "code",
   "execution_count": 38,
   "id": "1d57c7cd",
   "metadata": {},
   "outputs": [
    {
     "data": {
      "text/html": [
       "<div>\n",
       "<style scoped>\n",
       "    .dataframe tbody tr th:only-of-type {\n",
       "        vertical-align: middle;\n",
       "    }\n",
       "\n",
       "    .dataframe tbody tr th {\n",
       "        vertical-align: top;\n",
       "    }\n",
       "\n",
       "    .dataframe thead th {\n",
       "        text-align: right;\n",
       "    }\n",
       "</style>\n",
       "<table border=\"1\" class=\"dataframe\">\n",
       "  <thead>\n",
       "    <tr style=\"text-align: right;\">\n",
       "      <th></th>\n",
       "      <th>fit_time</th>\n",
       "      <th>score_time</th>\n",
       "      <th>test_neg_mean_squared_error</th>\n",
       "      <th>test_neg_mean_absolute_error</th>\n",
       "    </tr>\n",
       "  </thead>\n",
       "  <tbody>\n",
       "    <tr>\n",
       "      <th>0</th>\n",
       "      <td>0.001994</td>\n",
       "      <td>0.000997</td>\n",
       "      <td>-9.325530</td>\n",
       "      <td>-2.312430</td>\n",
       "    </tr>\n",
       "    <tr>\n",
       "      <th>1</th>\n",
       "      <td>0.001994</td>\n",
       "      <td>0.001615</td>\n",
       "      <td>-4.944962</td>\n",
       "      <td>-1.746534</td>\n",
       "    </tr>\n",
       "    <tr>\n",
       "      <th>2</th>\n",
       "      <td>0.001994</td>\n",
       "      <td>0.000998</td>\n",
       "      <td>-11.396652</td>\n",
       "      <td>-2.562117</td>\n",
       "    </tr>\n",
       "    <tr>\n",
       "      <th>3</th>\n",
       "      <td>0.001995</td>\n",
       "      <td>0.000998</td>\n",
       "      <td>-7.024211</td>\n",
       "      <td>-2.018732</td>\n",
       "    </tr>\n",
       "    <tr>\n",
       "      <th>4</th>\n",
       "      <td>0.001994</td>\n",
       "      <td>0.001995</td>\n",
       "      <td>-8.385627</td>\n",
       "      <td>-2.279519</td>\n",
       "    </tr>\n",
       "  </tbody>\n",
       "</table>\n",
       "</div>"
      ],
      "text/plain": [
       "   fit_time  score_time  test_neg_mean_squared_error  \\\n",
       "0  0.001994    0.000997                    -9.325530   \n",
       "1  0.001994    0.001615                    -4.944962   \n",
       "2  0.001994    0.000998                   -11.396652   \n",
       "3  0.001995    0.000998                    -7.024211   \n",
       "4  0.001994    0.001995                    -8.385627   \n",
       "\n",
       "   test_neg_mean_absolute_error  \n",
       "0                     -2.312430  \n",
       "1                     -1.746534  \n",
       "2                     -2.562117  \n",
       "3                     -2.018732  \n",
       "4                     -2.279519  "
      ]
     },
     "execution_count": 38,
     "metadata": {},
     "output_type": "execute_result"
    }
   ],
   "source": [
    "score = pd.DataFrame(scores)\n",
    "score"
   ]
  },
  {
   "cell_type": "code",
   "execution_count": 39,
   "id": "4b347b94",
   "metadata": {},
   "outputs": [
    {
     "data": {
      "text/plain": [
       "fit_time                        0.001994\n",
       "score_time                      0.001320\n",
       "test_neg_mean_squared_error    -8.215396\n",
       "test_neg_mean_absolute_error   -2.183866\n",
       "dtype: float64"
      ]
     },
     "execution_count": 39,
     "metadata": {},
     "output_type": "execute_result"
    }
   ],
   "source": [
    "score.mean()"
   ]
  },
  {
   "cell_type": "code",
   "execution_count": 40,
   "id": "629ed86b",
   "metadata": {},
   "outputs": [
    {
     "data": {
      "text/html": [
       "<div>\n",
       "<style scoped>\n",
       "    .dataframe tbody tr th:only-of-type {\n",
       "        vertical-align: middle;\n",
       "    }\n",
       "\n",
       "    .dataframe tbody tr th {\n",
       "        vertical-align: top;\n",
       "    }\n",
       "\n",
       "    .dataframe thead th {\n",
       "        text-align: right;\n",
       "    }\n",
       "</style>\n",
       "<table border=\"1\" class=\"dataframe\">\n",
       "  <thead>\n",
       "    <tr style=\"text-align: right;\">\n",
       "      <th></th>\n",
       "      <th>fit_time</th>\n",
       "      <th>score_time</th>\n",
       "      <th>test_neg_mean_squared_error</th>\n",
       "      <th>test_neg_mean_absolute_error</th>\n",
       "    </tr>\n",
       "  </thead>\n",
       "  <tbody>\n",
       "    <tr>\n",
       "      <th>0</th>\n",
       "      <td>0.000998</td>\n",
       "      <td>0.001994</td>\n",
       "      <td>-3.155132</td>\n",
       "      <td>-1.547117</td>\n",
       "    </tr>\n",
       "    <tr>\n",
       "      <th>1</th>\n",
       "      <td>0.001995</td>\n",
       "      <td>0.000997</td>\n",
       "      <td>-1.580870</td>\n",
       "      <td>-1.026044</td>\n",
       "    </tr>\n",
       "    <tr>\n",
       "      <th>2</th>\n",
       "      <td>0.001872</td>\n",
       "      <td>0.001564</td>\n",
       "      <td>-5.404556</td>\n",
       "      <td>-1.400793</td>\n",
       "    </tr>\n",
       "    <tr>\n",
       "      <th>3</th>\n",
       "      <td>0.001032</td>\n",
       "      <td>0.001039</td>\n",
       "      <td>-2.216545</td>\n",
       "      <td>-1.154251</td>\n",
       "    </tr>\n",
       "    <tr>\n",
       "      <th>4</th>\n",
       "      <td>0.001999</td>\n",
       "      <td>0.000997</td>\n",
       "      <td>-4.367094</td>\n",
       "      <td>-1.470222</td>\n",
       "    </tr>\n",
       "  </tbody>\n",
       "</table>\n",
       "</div>"
      ],
      "text/plain": [
       "   fit_time  score_time  test_neg_mean_squared_error  \\\n",
       "0  0.000998    0.001994                    -3.155132   \n",
       "1  0.001995    0.000997                    -1.580870   \n",
       "2  0.001872    0.001564                    -5.404556   \n",
       "3  0.001032    0.001039                    -2.216545   \n",
       "4  0.001999    0.000997                    -4.367094   \n",
       "\n",
       "   test_neg_mean_absolute_error  \n",
       "0                     -1.547117  \n",
       "1                     -1.026044  \n",
       "2                     -1.400793  \n",
       "3                     -1.154251  \n",
       "4                     -1.470222  "
      ]
     },
     "execution_count": 40,
     "metadata": {},
     "output_type": "execute_result"
    }
   ],
   "source": [
    "model = Ridge(alpha=1)\n",
    "scores = cross_validate(model, X_train, y_train, scoring= ['neg_mean_squared_error', 'neg_mean_absolute_error'], cv=5)\n",
    "scores = pd.DataFrame(scores)\n",
    "scores"
   ]
  },
  {
   "cell_type": "code",
   "execution_count": 41,
   "id": "6d924440",
   "metadata": {},
   "outputs": [
    {
     "data": {
      "text/plain": [
       "fit_time                        0.001579\n",
       "score_time                      0.001318\n",
       "test_neg_mean_squared_error    -3.344839\n",
       "test_neg_mean_absolute_error   -1.319685\n",
       "dtype: float64"
      ]
     },
     "execution_count": 41,
     "metadata": {},
     "output_type": "execute_result"
    }
   ],
   "source": [
    "scores.mean()"
   ]
  },
  {
   "cell_type": "markdown",
   "id": "0fff9e4c",
   "metadata": {},
   "source": [
    "# With GridSearchCV"
   ]
  },
  {
   "cell_type": "code",
   "execution_count": 42,
   "id": "a93890f5",
   "metadata": {},
   "outputs": [
    {
     "name": "stdout",
     "output_type": "stream",
     "text": [
      "Fitting 5 folds for each of 21 candidates, totalling 105 fits\n",
      "[CV 1/5] END ..........alpha=0.1, l1_ratio=0.5;, score=-3.325 total time=   0.0s\n",
      "[CV 2/5] END ..........alpha=0.1, l1_ratio=0.5;, score=-1.428 total time=   0.0s\n",
      "[CV 3/5] END ..........alpha=0.1, l1_ratio=0.5;, score=-5.596 total time=   0.0s\n",
      "[CV 4/5] END ..........alpha=0.1, l1_ratio=0.5;, score=-2.163 total time=   0.0s\n",
      "[CV 5/5] END ..........alpha=0.1, l1_ratio=0.5;, score=-4.452 total time=   0.0s\n",
      "[CV 1/5] END ..........alpha=0.1, l1_ratio=0.7;, score=-3.270 total time=   0.0s\n",
      "[CV 2/5] END ..........alpha=0.1, l1_ratio=0.7;, score=-1.442 total time=   0.0s\n",
      "[CV 3/5] END ..........alpha=0.1, l1_ratio=0.7;, score=-5.502 total time=   0.0s\n",
      "[CV 4/5] END ..........alpha=0.1, l1_ratio=0.7;, score=-2.164 total time=   0.0s\n",
      "[CV 5/5] END ..........alpha=0.1, l1_ratio=0.7;, score=-4.357 total time=   0.0s\n",
      "[CV 1/5] END ............alpha=0.1, l1_ratio=1;, score=-3.207 total time=   0.0s\n",
      "[CV 2/5] END ............alpha=0.1, l1_ratio=1;, score=-1.480 total time=   0.0s\n",
      "[CV 3/5] END ............alpha=0.1, l1_ratio=1;, score=-5.376 total time=   0.0s\n",
      "[CV 4/5] END ............alpha=0.1, l1_ratio=1;, score=-2.182 total time=   0.0s\n",
      "[CV 5/5] END ............alpha=0.1, l1_ratio=1;, score=-4.218 total time=   0.0s\n",
      "[CV 1/5] END ..........alpha=0.5, l1_ratio=0.5;, score=-5.263 total time=   0.0s\n",
      "[CV 2/5] END ..........alpha=0.5, l1_ratio=0.5;, score=-2.106 total time=   0.0s\n",
      "[CV 3/5] END ..........alpha=0.5, l1_ratio=0.5;, score=-7.742 total time=   0.0s\n",
      "[CV 4/5] END ..........alpha=0.5, l1_ratio=0.5;, score=-3.353 total time=   0.0s\n",
      "[CV 5/5] END ..........alpha=0.5, l1_ratio=0.5;, score=-5.439 total time=   0.0s\n",
      "[CV 1/5] END ..........alpha=0.5, l1_ratio=0.7;, score=-4.789 total time=   0.0s\n",
      "[CV 2/5] END ..........alpha=0.5, l1_ratio=0.7;, score=-1.831 total time=   0.0s\n",
      "[CV 3/5] END ..........alpha=0.5, l1_ratio=0.7;, score=-7.219 total time=   0.0s\n",
      "[CV 4/5] END ..........alpha=0.5, l1_ratio=0.7;, score=-2.958 total time=   0.0s\n",
      "[CV 5/5] END ..........alpha=0.5, l1_ratio=0.7;, score=-4.906 total time=   0.0s\n",
      "[CV 1/5] END ............alpha=0.5, l1_ratio=1;, score=-4.127 total time=   0.0s\n",
      "[CV 2/5] END ............alpha=0.5, l1_ratio=1;, score=-1.494 total time=   0.0s\n",
      "[CV 3/5] END ............alpha=0.5, l1_ratio=1;, score=-6.397 total time=   0.0s\n",
      "[CV 4/5] END ............alpha=0.5, l1_ratio=1;, score=-2.446 total time=   0.0s\n",
      "[CV 5/5] END ............alpha=0.5, l1_ratio=1;, score=-4.289 total time=   0.0s\n",
      "[CV 1/5] END ............alpha=1, l1_ratio=0.5;, score=-8.707 total time=   0.0s\n",
      "[CV 2/5] END ............alpha=1, l1_ratio=0.5;, score=-4.214 total time=   0.0s\n",
      "[CV 3/5] END ...........alpha=1, l1_ratio=0.5;, score=-10.879 total time=   0.0s\n",
      "[CV 4/5] END ............alpha=1, l1_ratio=0.5;, score=-6.205 total time=   0.0s\n",
      "[CV 5/5] END ............alpha=1, l1_ratio=0.5;, score=-7.173 total time=   0.0s\n",
      "[CV 1/5] END ............alpha=1, l1_ratio=0.7;, score=-7.921 total time=   0.0s\n",
      "[CV 2/5] END ............alpha=1, l1_ratio=0.7;, score=-3.550 total time=   0.0s\n",
      "[CV 3/5] END ...........alpha=1, l1_ratio=0.7;, score=-10.025 total time=   0.0s\n",
      "[CV 4/5] END ............alpha=1, l1_ratio=0.7;, score=-5.380 total time=   0.0s\n",
      "[CV 5/5] END ............alpha=1, l1_ratio=0.7;, score=-6.325 total time=   0.0s\n",
      "[CV 1/5] END ..............alpha=1, l1_ratio=1;, score=-6.469 total time=   0.0s\n",
      "[CV 2/5] END ..............alpha=1, l1_ratio=1;, score=-2.391 total time=   0.0s\n",
      "[CV 3/5] END ..............alpha=1, l1_ratio=1;, score=-8.410 total time=   0.0s\n",
      "[CV 4/5] END ..............alpha=1, l1_ratio=1;, score=-3.894 total time=   0.0s\n",
      "[CV 5/5] END ..............alpha=1, l1_ratio=1;, score=-5.106 total time=   0.0s\n",
      "[CV 1/5] END .........alpha=1.5, l1_ratio=0.5;, score=-12.209 total time=   0.0s\n",
      "[CV 2/5] END ..........alpha=1.5, l1_ratio=0.5;, score=-6.625 total time=   0.0s\n",
      "[CV 3/5] END .........alpha=1.5, l1_ratio=0.5;, score=-13.885 total time=   0.0s\n",
      "[CV 4/5] END ..........alpha=1.5, l1_ratio=0.5;, score=-9.307 total time=   0.0s\n",
      "[CV 5/5] END ..........alpha=1.5, l1_ratio=0.5;, score=-8.983 total time=   0.0s\n",
      "[CV 1/5] END .........alpha=1.5, l1_ratio=0.7;, score=-11.549 total time=   0.0s\n",
      "[CV 2/5] END ..........alpha=1.5, l1_ratio=0.7;, score=-5.888 total time=   0.0s\n",
      "[CV 3/5] END .........alpha=1.5, l1_ratio=0.7;, score=-13.072 total time=   0.0s\n",
      "[CV 4/5] END ..........alpha=1.5, l1_ratio=0.7;, score=-8.470 total time=   0.0s\n",
      "[CV 5/5] END ..........alpha=1.5, l1_ratio=0.7;, score=-8.177 total time=   0.0s\n",
      "[CV 1/5] END ...........alpha=1.5, l1_ratio=1;, score=-10.136 total time=   0.0s\n",
      "[CV 2/5] END ............alpha=1.5, l1_ratio=1;, score=-4.268 total time=   0.0s\n",
      "[CV 3/5] END ...........alpha=1.5, l1_ratio=1;, score=-11.242 total time=   0.0s\n",
      "[CV 4/5] END ............alpha=1.5, l1_ratio=1;, score=-6.584 total time=   0.0s\n",
      "[CV 5/5] END ............alpha=1.5, l1_ratio=1;, score=-6.517 total time=   0.0s\n",
      "[CV 1/5] END ...........alpha=2, l1_ratio=0.5;, score=-15.382 total time=   0.0s\n",
      "[CV 2/5] END ............alpha=2, l1_ratio=0.5;, score=-8.936 total time=   0.0s\n",
      "[CV 3/5] END ...........alpha=2, l1_ratio=0.5;, score=-16.581 total time=   0.0s\n",
      "[CV 4/5] END ...........alpha=2, l1_ratio=0.5;, score=-12.209 total time=   0.0s\n",
      "[CV 5/5] END ...........alpha=2, l1_ratio=0.5;, score=-10.699 total time=   0.0s\n",
      "[CV 1/5] END ...........alpha=2, l1_ratio=0.7;, score=-15.247 total time=   0.0s\n",
      "[CV 2/5] END ............alpha=2, l1_ratio=0.7;, score=-8.441 total time=   0.0s\n",
      "[CV 3/5] END ...........alpha=2, l1_ratio=0.7;, score=-16.109 total time=   0.0s\n",
      "[CV 4/5] END ...........alpha=2, l1_ratio=0.7;, score=-11.749 total time=   0.0s\n",
      "[CV 5/5] END ...........alpha=2, l1_ratio=0.7;, score=-10.120 total time=   0.0s\n",
      "[CV 1/5] END .............alpha=2, l1_ratio=1;, score=-15.127 total time=   0.0s\n",
      "[CV 2/5] END ..............alpha=2, l1_ratio=1;, score=-7.123 total time=   0.0s\n",
      "[CV 3/5] END .............alpha=2, l1_ratio=1;, score=-14.894 total time=   0.0s\n",
      "[CV 4/5] END .............alpha=2, l1_ratio=1;, score=-10.517 total time=   0.0s\n",
      "[CV 5/5] END ..............alpha=2, l1_ratio=1;, score=-8.524 total time=   0.0s\n",
      "[CV 1/5] END ...........alpha=5, l1_ratio=0.5;, score=-27.793 total time=   0.0s\n",
      "[CV 2/5] END ...........alpha=5, l1_ratio=0.5;, score=-18.602 total time=   0.0s\n",
      "[CV 3/5] END ...........alpha=5, l1_ratio=0.5;, score=-27.108 total time=   0.0s\n",
      "[CV 4/5] END ...........alpha=5, l1_ratio=0.5;, score=-23.945 total time=   0.0s\n",
      "[CV 5/5] END ...........alpha=5, l1_ratio=0.5;, score=-18.065 total time=   0.0s\n",
      "[CV 1/5] END ...........alpha=5, l1_ratio=0.7;, score=-29.656 total time=   0.0s\n",
      "[CV 2/5] END ...........alpha=5, l1_ratio=0.7;, score=-21.085 total time=   0.0s\n",
      "[CV 3/5] END ...........alpha=5, l1_ratio=0.7;, score=-29.629 total time=   0.0s\n",
      "[CV 4/5] END ...........alpha=5, l1_ratio=0.7;, score=-26.725 total time=   0.0s\n",
      "[CV 5/5] END ...........alpha=5, l1_ratio=0.7;, score=-20.224 total time=   0.0s\n",
      "[CV 1/5] END .............alpha=5, l1_ratio=1;, score=-31.130 total time=   0.0s\n",
      "[CV 2/5] END .............alpha=5, l1_ratio=1;, score=-22.549 total time=   0.0s\n",
      "[CV 3/5] END .............alpha=5, l1_ratio=1;, score=-31.155 total time=   0.0s\n",
      "[CV 4/5] END .............alpha=5, l1_ratio=1;, score=-27.963 total time=   0.0s\n",
      "[CV 5/5] END .............alpha=5, l1_ratio=1;, score=-21.698 total time=   0.0s\n",
      "[CV 1/5] END ..........alpha=10, l1_ratio=0.5;, score=-31.130 total time=   0.0s\n",
      "[CV 2/5] END ..........alpha=10, l1_ratio=0.5;, score=-22.549 total time=   0.0s\n",
      "[CV 3/5] END ..........alpha=10, l1_ratio=0.5;, score=-31.155 total time=   0.0s\n",
      "[CV 4/5] END ..........alpha=10, l1_ratio=0.5;, score=-27.963 total time=   0.0s\n",
      "[CV 5/5] END ..........alpha=10, l1_ratio=0.5;, score=-21.698 total time=   0.0s\n",
      "[CV 1/5] END ..........alpha=10, l1_ratio=0.7;, score=-31.130 total time=   0.0s\n",
      "[CV 2/5] END ..........alpha=10, l1_ratio=0.7;, score=-22.549 total time=   0.0s\n",
      "[CV 3/5] END ..........alpha=10, l1_ratio=0.7;, score=-31.155 total time=   0.0s\n",
      "[CV 4/5] END ..........alpha=10, l1_ratio=0.7;, score=-27.963 total time=   0.0s\n",
      "[CV 5/5] END ..........alpha=10, l1_ratio=0.7;, score=-21.698 total time=   0.0s\n",
      "[CV 1/5] END ............alpha=10, l1_ratio=1;, score=-31.130 total time=   0.0s\n",
      "[CV 2/5] END ............alpha=10, l1_ratio=1;, score=-22.549 total time=   0.0s\n",
      "[CV 3/5] END ............alpha=10, l1_ratio=1;, score=-31.155 total time=   0.0s\n",
      "[CV 4/5] END ............alpha=10, l1_ratio=1;, score=-27.963 total time=   0.0s\n",
      "[CV 5/5] END ............alpha=10, l1_ratio=1;, score=-21.698 total time=   0.0s\n"
     ]
    },
    {
     "data": {
      "text/plain": [
       "GridSearchCV(cv=5, estimator=ElasticNet(),\n",
       "             param_grid={'alpha': [0.1, 0.5, 1, 1.5, 2, 5, 10],\n",
       "                         'l1_ratio': [0.5, 0.7, 1]},\n",
       "             scoring='neg_mean_squared_error', verbose=3)"
      ]
     },
     "execution_count": 42,
     "metadata": {},
     "output_type": "execute_result"
    }
   ],
   "source": [
    "from sklearn.linear_model import ElasticNet\n",
    "from sklearn.model_selection import GridSearchCV\n",
    "base_model = ElasticNet()\n",
    "param_grid = {'alpha':[0.1,0.5,1,1.5,2,5,10],'l1_ratio':[0.5,0.7,1]}\n",
    "grid_model = GridSearchCV(base_model,param_grid,scoring='neg_mean_squared_error',cv=5,verbose = 3)\n",
    "grid_model.fit(X_train, y_train)"
   ]
  },
  {
   "cell_type": "code",
   "execution_count": 43,
   "id": "83615846",
   "metadata": {},
   "outputs": [
    {
     "data": {
      "text/plain": [
       "ElasticNet(alpha=0.1, l1_ratio=1)"
      ]
     },
     "execution_count": 43,
     "metadata": {},
     "output_type": "execute_result"
    }
   ],
   "source": [
    "grid_model.best_estimator_"
   ]
  },
  {
   "cell_type": "code",
   "execution_count": 44,
   "id": "7afb22fe",
   "metadata": {},
   "outputs": [
    {
     "data": {
      "text/html": [
       "<div>\n",
       "<style scoped>\n",
       "    .dataframe tbody tr th:only-of-type {\n",
       "        vertical-align: middle;\n",
       "    }\n",
       "\n",
       "    .dataframe tbody tr th {\n",
       "        vertical-align: top;\n",
       "    }\n",
       "\n",
       "    .dataframe thead th {\n",
       "        text-align: right;\n",
       "    }\n",
       "</style>\n",
       "<table border=\"1\" class=\"dataframe\">\n",
       "  <thead>\n",
       "    <tr style=\"text-align: right;\">\n",
       "      <th></th>\n",
       "      <th>mean_fit_time</th>\n",
       "      <th>std_fit_time</th>\n",
       "      <th>mean_score_time</th>\n",
       "      <th>std_score_time</th>\n",
       "      <th>param_alpha</th>\n",
       "      <th>param_l1_ratio</th>\n",
       "      <th>params</th>\n",
       "      <th>split0_test_score</th>\n",
       "      <th>split1_test_score</th>\n",
       "      <th>split2_test_score</th>\n",
       "      <th>split3_test_score</th>\n",
       "      <th>split4_test_score</th>\n",
       "      <th>mean_test_score</th>\n",
       "      <th>std_test_score</th>\n",
       "      <th>rank_test_score</th>\n",
       "    </tr>\n",
       "  </thead>\n",
       "  <tbody>\n",
       "    <tr>\n",
       "      <th>0</th>\n",
       "      <td>0.017830</td>\n",
       "      <td>3.167124e-02</td>\n",
       "      <td>0.000798</td>\n",
       "      <td>3.988982e-04</td>\n",
       "      <td>0.1</td>\n",
       "      <td>0.5</td>\n",
       "      <td>{'alpha': 0.1, 'l1_ratio': 0.5}</td>\n",
       "      <td>-3.325440</td>\n",
       "      <td>-1.427522</td>\n",
       "      <td>-5.595610</td>\n",
       "      <td>-2.163089</td>\n",
       "      <td>-4.451679</td>\n",
       "      <td>-3.392668</td>\n",
       "      <td>1.506827</td>\n",
       "      <td>3</td>\n",
       "    </tr>\n",
       "    <tr>\n",
       "      <th>1</th>\n",
       "      <td>0.009575</td>\n",
       "      <td>1.566280e-02</td>\n",
       "      <td>0.000997</td>\n",
       "      <td>4.909339e-07</td>\n",
       "      <td>0.1</td>\n",
       "      <td>0.7</td>\n",
       "      <td>{'alpha': 0.1, 'l1_ratio': 0.7}</td>\n",
       "      <td>-3.269880</td>\n",
       "      <td>-1.442432</td>\n",
       "      <td>-5.502437</td>\n",
       "      <td>-2.163950</td>\n",
       "      <td>-4.356738</td>\n",
       "      <td>-3.347088</td>\n",
       "      <td>1.462765</td>\n",
       "      <td>2</td>\n",
       "    </tr>\n",
       "    <tr>\n",
       "      <th>2</th>\n",
       "      <td>0.001994</td>\n",
       "      <td>1.907349e-07</td>\n",
       "      <td>0.000798</td>\n",
       "      <td>3.988745e-04</td>\n",
       "      <td>0.1</td>\n",
       "      <td>1</td>\n",
       "      <td>{'alpha': 0.1, 'l1_ratio': 1}</td>\n",
       "      <td>-3.206943</td>\n",
       "      <td>-1.480065</td>\n",
       "      <td>-5.376257</td>\n",
       "      <td>-2.182076</td>\n",
       "      <td>-4.218460</td>\n",
       "      <td>-3.292760</td>\n",
       "      <td>1.394613</td>\n",
       "      <td>1</td>\n",
       "    </tr>\n",
       "    <tr>\n",
       "      <th>3</th>\n",
       "      <td>0.002194</td>\n",
       "      <td>3.987076e-04</td>\n",
       "      <td>0.000599</td>\n",
       "      <td>4.888114e-04</td>\n",
       "      <td>0.5</td>\n",
       "      <td>0.5</td>\n",
       "      <td>{'alpha': 0.5, 'l1_ratio': 0.5}</td>\n",
       "      <td>-5.262734</td>\n",
       "      <td>-2.106134</td>\n",
       "      <td>-7.742260</td>\n",
       "      <td>-3.352577</td>\n",
       "      <td>-5.439260</td>\n",
       "      <td>-4.780593</td>\n",
       "      <td>1.930271</td>\n",
       "      <td>6</td>\n",
       "    </tr>\n",
       "    <tr>\n",
       "      <th>4</th>\n",
       "      <td>0.001995</td>\n",
       "      <td>3.989506e-07</td>\n",
       "      <td>0.000997</td>\n",
       "      <td>2.611745e-07</td>\n",
       "      <td>0.5</td>\n",
       "      <td>0.7</td>\n",
       "      <td>{'alpha': 0.5, 'l1_ratio': 0.7}</td>\n",
       "      <td>-4.788862</td>\n",
       "      <td>-1.831036</td>\n",
       "      <td>-7.218702</td>\n",
       "      <td>-2.957602</td>\n",
       "      <td>-4.905525</td>\n",
       "      <td>-4.340345</td>\n",
       "      <td>1.844676</td>\n",
       "      <td>5</td>\n",
       "    </tr>\n",
       "  </tbody>\n",
       "</table>\n",
       "</div>"
      ],
      "text/plain": [
       "   mean_fit_time  std_fit_time  mean_score_time  std_score_time param_alpha  \\\n",
       "0       0.017830  3.167124e-02         0.000798    3.988982e-04         0.1   \n",
       "1       0.009575  1.566280e-02         0.000997    4.909339e-07         0.1   \n",
       "2       0.001994  1.907349e-07         0.000798    3.988745e-04         0.1   \n",
       "3       0.002194  3.987076e-04         0.000599    4.888114e-04         0.5   \n",
       "4       0.001995  3.989506e-07         0.000997    2.611745e-07         0.5   \n",
       "\n",
       "  param_l1_ratio                           params  split0_test_score  \\\n",
       "0            0.5  {'alpha': 0.1, 'l1_ratio': 0.5}          -3.325440   \n",
       "1            0.7  {'alpha': 0.1, 'l1_ratio': 0.7}          -3.269880   \n",
       "2              1    {'alpha': 0.1, 'l1_ratio': 1}          -3.206943   \n",
       "3            0.5  {'alpha': 0.5, 'l1_ratio': 0.5}          -5.262734   \n",
       "4            0.7  {'alpha': 0.5, 'l1_ratio': 0.7}          -4.788862   \n",
       "\n",
       "   split1_test_score  split2_test_score  split3_test_score  split4_test_score  \\\n",
       "0          -1.427522          -5.595610          -2.163089          -4.451679   \n",
       "1          -1.442432          -5.502437          -2.163950          -4.356738   \n",
       "2          -1.480065          -5.376257          -2.182076          -4.218460   \n",
       "3          -2.106134          -7.742260          -3.352577          -5.439260   \n",
       "4          -1.831036          -7.218702          -2.957602          -4.905525   \n",
       "\n",
       "   mean_test_score  std_test_score  rank_test_score  \n",
       "0        -3.392668        1.506827                3  \n",
       "1        -3.347088        1.462765                2  \n",
       "2        -3.292760        1.394613                1  \n",
       "3        -4.780593        1.930271                6  \n",
       "4        -4.340345        1.844676                5  "
      ]
     },
     "execution_count": 44,
     "metadata": {},
     "output_type": "execute_result"
    }
   ],
   "source": [
    "pd.DataFrame(grid_model.cv_results_).head()"
   ]
  },
  {
   "cell_type": "code",
   "execution_count": 45,
   "id": "c642f268",
   "metadata": {},
   "outputs": [
    {
     "data": {
      "text/plain": [
       "2.387342642087474"
      ]
     },
     "execution_count": 45,
     "metadata": {},
     "output_type": "execute_result"
    }
   ],
   "source": [
    "y_pred = grid_model.predict(X_test)\n",
    "mean_squared_error(y_test, y_pred)"
   ]
  },
  {
   "cell_type": "code",
   "execution_count": null,
   "id": "50020267",
   "metadata": {},
   "outputs": [],
   "source": []
  }
 ],
 "metadata": {
  "kernelspec": {
   "display_name": "Python 3 (ipykernel)",
   "language": "python",
   "name": "python3"
  },
  "language_info": {
   "codemirror_mode": {
    "name": "ipython",
    "version": 3
   },
   "file_extension": ".py",
   "mimetype": "text/x-python",
   "name": "python",
   "nbconvert_exporter": "python",
   "pygments_lexer": "ipython3",
   "version": "3.9.0"
  }
 },
 "nbformat": 4,
 "nbformat_minor": 5
}
