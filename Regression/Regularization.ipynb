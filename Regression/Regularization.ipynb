{
 "cells": [
  {
   "cell_type": "code",
   "execution_count": 2,
   "id": "46b1c3e3",
   "metadata": {},
   "outputs": [],
   "source": [
    "import pandas as pd\n",
    "import numpy as np\n",
    "import matplotlib.pyplot as plt\n",
    "import seaborn as sns\n",
    "from sklearn.metrics import mean_squared_error as mse \n",
    "from sklearn.metrics import mean_absolute_error as mae"
   ]
  },
  {
   "cell_type": "code",
   "execution_count": 3,
   "id": "37493f24",
   "metadata": {},
   "outputs": [
    {
     "data": {
      "text/html": [
       "<div>\n",
       "<style scoped>\n",
       "    .dataframe tbody tr th:only-of-type {\n",
       "        vertical-align: middle;\n",
       "    }\n",
       "\n",
       "    .dataframe tbody tr th {\n",
       "        vertical-align: top;\n",
       "    }\n",
       "\n",
       "    .dataframe thead th {\n",
       "        text-align: right;\n",
       "    }\n",
       "</style>\n",
       "<table border=\"1\" class=\"dataframe\">\n",
       "  <thead>\n",
       "    <tr style=\"text-align: right;\">\n",
       "      <th></th>\n",
       "      <th>TV</th>\n",
       "      <th>radio</th>\n",
       "      <th>newspaper</th>\n",
       "      <th>sales</th>\n",
       "    </tr>\n",
       "  </thead>\n",
       "  <tbody>\n",
       "    <tr>\n",
       "      <th>0</th>\n",
       "      <td>230.1</td>\n",
       "      <td>37.8</td>\n",
       "      <td>69.2</td>\n",
       "      <td>22.1</td>\n",
       "    </tr>\n",
       "    <tr>\n",
       "      <th>1</th>\n",
       "      <td>44.5</td>\n",
       "      <td>39.3</td>\n",
       "      <td>45.1</td>\n",
       "      <td>10.4</td>\n",
       "    </tr>\n",
       "    <tr>\n",
       "      <th>2</th>\n",
       "      <td>17.2</td>\n",
       "      <td>45.9</td>\n",
       "      <td>69.3</td>\n",
       "      <td>9.3</td>\n",
       "    </tr>\n",
       "    <tr>\n",
       "      <th>3</th>\n",
       "      <td>151.5</td>\n",
       "      <td>41.3</td>\n",
       "      <td>58.5</td>\n",
       "      <td>18.5</td>\n",
       "    </tr>\n",
       "    <tr>\n",
       "      <th>4</th>\n",
       "      <td>180.8</td>\n",
       "      <td>10.8</td>\n",
       "      <td>58.4</td>\n",
       "      <td>12.9</td>\n",
       "    </tr>\n",
       "  </tbody>\n",
       "</table>\n",
       "</div>"
      ],
      "text/plain": [
       "      TV  radio  newspaper  sales\n",
       "0  230.1   37.8       69.2   22.1\n",
       "1   44.5   39.3       45.1   10.4\n",
       "2   17.2   45.9       69.3    9.3\n",
       "3  151.5   41.3       58.5   18.5\n",
       "4  180.8   10.8       58.4   12.9"
      ]
     },
     "execution_count": 3,
     "metadata": {},
     "output_type": "execute_result"
    }
   ],
   "source": [
    "df = pd.read_csv(r'D:\\ml_ineuron\\modular\\Ml_class_ineuron\\data\\Advertising.csv')\n",
    "df.head()"
   ]
  },
  {
   "cell_type": "code",
   "execution_count": 4,
   "id": "a25c8850",
   "metadata": {},
   "outputs": [
    {
     "data": {
      "text/html": [
       "<div>\n",
       "<style scoped>\n",
       "    .dataframe tbody tr th:only-of-type {\n",
       "        vertical-align: middle;\n",
       "    }\n",
       "\n",
       "    .dataframe tbody tr th {\n",
       "        vertical-align: top;\n",
       "    }\n",
       "\n",
       "    .dataframe thead th {\n",
       "        text-align: right;\n",
       "    }\n",
       "</style>\n",
       "<table border=\"1\" class=\"dataframe\">\n",
       "  <thead>\n",
       "    <tr style=\"text-align: right;\">\n",
       "      <th></th>\n",
       "      <th>TV</th>\n",
       "      <th>radio</th>\n",
       "      <th>newspaper</th>\n",
       "    </tr>\n",
       "  </thead>\n",
       "  <tbody>\n",
       "    <tr>\n",
       "      <th>0</th>\n",
       "      <td>230.1</td>\n",
       "      <td>37.8</td>\n",
       "      <td>69.2</td>\n",
       "    </tr>\n",
       "    <tr>\n",
       "      <th>1</th>\n",
       "      <td>44.5</td>\n",
       "      <td>39.3</td>\n",
       "      <td>45.1</td>\n",
       "    </tr>\n",
       "    <tr>\n",
       "      <th>2</th>\n",
       "      <td>17.2</td>\n",
       "      <td>45.9</td>\n",
       "      <td>69.3</td>\n",
       "    </tr>\n",
       "    <tr>\n",
       "      <th>3</th>\n",
       "      <td>151.5</td>\n",
       "      <td>41.3</td>\n",
       "      <td>58.5</td>\n",
       "    </tr>\n",
       "    <tr>\n",
       "      <th>4</th>\n",
       "      <td>180.8</td>\n",
       "      <td>10.8</td>\n",
       "      <td>58.4</td>\n",
       "    </tr>\n",
       "  </tbody>\n",
       "</table>\n",
       "</div>"
      ],
      "text/plain": [
       "      TV  radio  newspaper\n",
       "0  230.1   37.8       69.2\n",
       "1   44.5   39.3       45.1\n",
       "2   17.2   45.9       69.3\n",
       "3  151.5   41.3       58.5\n",
       "4  180.8   10.8       58.4"
      ]
     },
     "execution_count": 4,
     "metadata": {},
     "output_type": "execute_result"
    }
   ],
   "source": [
    "X = df.drop('sales', axis=1)\n",
    "X.head()"
   ]
  },
  {
   "cell_type": "code",
   "execution_count": 5,
   "id": "2df90b86",
   "metadata": {},
   "outputs": [
    {
     "data": {
      "text/plain": [
       "0      22.1\n",
       "1      10.4\n",
       "2       9.3\n",
       "3      18.5\n",
       "4      12.9\n",
       "       ... \n",
       "195     7.6\n",
       "196     9.7\n",
       "197    12.8\n",
       "198    25.5\n",
       "199    13.4\n",
       "Name: sales, Length: 200, dtype: float64"
      ]
     },
     "execution_count": 5,
     "metadata": {},
     "output_type": "execute_result"
    }
   ],
   "source": [
    "y = df['sales']\n",
    "y"
   ]
  },
  {
   "cell_type": "code",
   "execution_count": 6,
   "id": "74ebf31f",
   "metadata": {},
   "outputs": [],
   "source": [
    "from sklearn.preprocessing import PolynomialFeatures\n",
    "from sklearn.linear_model import LinearRegression"
   ]
  },
  {
   "cell_type": "code",
   "execution_count": 7,
   "id": "467ea966",
   "metadata": {},
   "outputs": [],
   "source": [
    "poly_conv = PolynomialFeatures(degree=3, include_bias=False)"
   ]
  },
  {
   "cell_type": "code",
   "execution_count": 8,
   "id": "9bc97434",
   "metadata": {},
   "outputs": [],
   "source": [
    "final_model = LinearRegression()"
   ]
  },
  {
   "cell_type": "code",
   "execution_count": 9,
   "id": "80b01527",
   "metadata": {},
   "outputs": [
    {
     "data": {
      "text/plain": [
       "array([[2.30100000e+02, 3.78000000e+01, 6.92000000e+01, ...,\n",
       "        9.88757280e+04, 1.81010592e+05, 3.31373888e+05],\n",
       "       [4.45000000e+01, 3.93000000e+01, 4.51000000e+01, ...,\n",
       "        6.96564990e+04, 7.99365930e+04, 9.17338510e+04],\n",
       "       [1.72000000e+01, 4.59000000e+01, 6.93000000e+01, ...,\n",
       "        1.46001933e+05, 2.20434291e+05, 3.32812557e+05],\n",
       "       ...,\n",
       "       [1.77000000e+02, 9.30000000e+00, 6.40000000e+00, ...,\n",
       "        5.53536000e+02, 3.80928000e+02, 2.62144000e+02],\n",
       "       [2.83600000e+02, 4.20000000e+01, 6.62000000e+01, ...,\n",
       "        1.16776800e+05, 1.84062480e+05, 2.90117528e+05],\n",
       "       [2.32100000e+02, 8.60000000e+00, 8.70000000e+00, ...,\n",
       "        6.43452000e+02, 6.50934000e+02, 6.58503000e+02]])"
      ]
     },
     "execution_count": 9,
     "metadata": {},
     "output_type": "execute_result"
    }
   ],
   "source": [
    "poly_features = poly_conv.fit_transform(X)\n",
    "poly_features"
   ]
  },
  {
   "cell_type": "code",
   "execution_count": 10,
   "id": "0b16fea2",
   "metadata": {},
   "outputs": [],
   "source": [
    "from sklearn.model_selection import train_test_split\n",
    "X_train, X_test, y_train, y_test = train_test_split(\n",
    "                                    poly_features, y, test_size=0.33, random_state=101)"
   ]
  },
  {
   "cell_type": "code",
   "execution_count": 11,
   "id": "0a75bc15",
   "metadata": {},
   "outputs": [],
   "source": [
    "from sklearn.preprocessing import StandardScaler"
   ]
  },
  {
   "cell_type": "code",
   "execution_count": 12,
   "id": "768e28c1",
   "metadata": {},
   "outputs": [],
   "source": [
    "scaler = StandardScaler() #it applies z score normalisation(standardisation)"
   ]
  },
  {
   "cell_type": "code",
   "execution_count": 13,
   "id": "888010b9",
   "metadata": {},
   "outputs": [
    {
     "data": {
      "text/plain": [
       "StandardScaler()"
      ]
     },
     "execution_count": 13,
     "metadata": {},
     "output_type": "execute_result"
    }
   ],
   "source": [
    "scaler.fit(X_train)"
   ]
  },
  {
   "cell_type": "code",
   "execution_count": 14,
   "id": "b691b3bd",
   "metadata": {},
   "outputs": [],
   "source": [
    "scaled_X_train = scaler.transform(X_train)"
   ]
  },
  {
   "cell_type": "code",
   "execution_count": 15,
   "id": "8bde9706",
   "metadata": {},
   "outputs": [],
   "source": [
    "scaled_X_test = scaler.transform(X_test)"
   ]
  },
  {
   "cell_type": "code",
   "execution_count": 16,
   "id": "348d4843",
   "metadata": {},
   "outputs": [
    {
     "data": {
      "text/plain": [
       "array([1.87800000e+02, 2.11000000e+01, 9.50000000e+00, 3.52688400e+04,\n",
       "       3.96258000e+03, 1.78410000e+03, 4.45210000e+02, 2.00450000e+02,\n",
       "       9.02500000e+01, 6.62348815e+06, 7.44172524e+05, 3.35053980e+05,\n",
       "       8.36104380e+04, 3.76445100e+04, 1.69489500e+04, 9.39393100e+03,\n",
       "       4.22949500e+03, 1.90427500e+03, 8.57375000e+02])"
      ]
     },
     "execution_count": 16,
     "metadata": {},
     "output_type": "execute_result"
    }
   ],
   "source": [
    "X_train[0]"
   ]
  },
  {
   "cell_type": "code",
   "execution_count": 17,
   "id": "0411bb14",
   "metadata": {},
   "outputs": [
    {
     "data": {
      "text/plain": [
       "array([[ 0.455913  , -0.15469995, -0.98899258, ..., -0.60618091,\n",
       "        -0.56426029, -0.5063835 ],\n",
       "       [-0.84432792,  1.60997604,  0.21389931, ...,  1.27808026,\n",
       "         0.25379368, -0.22928072],\n",
       "       [-0.2808111 ,  0.93019813,  2.36467003, ...,  2.13064753,\n",
       "         2.9262847 ,  2.91162153],\n",
       "       ...,\n",
       "       [ 1.07281562, -1.32199535,  0.32937694, ..., -0.70151704,\n",
       "        -0.50832904, -0.16601335],\n",
       "       [ 0.77504147,  0.04442691, -1.2536288 , ..., -0.6570423 ,\n",
       "        -0.58737703, -0.51185147],\n",
       "       [ 0.16525695,  0.56627662,  1.09922775, ...,  0.67742414,\n",
       "         0.75141387,  0.50797559]])"
      ]
     },
     "execution_count": 17,
     "metadata": {},
     "output_type": "execute_result"
    }
   ],
   "source": [
    "scaled_X_train"
   ]
  },
  {
   "cell_type": "code",
   "execution_count": 18,
   "id": "1e341e5f",
   "metadata": {},
   "outputs": [],
   "source": [
    "from sklearn.linear_model import Ridge"
   ]
  },
  {
   "cell_type": "code",
   "execution_count": 19,
   "id": "053c0d4b",
   "metadata": {},
   "outputs": [],
   "source": [
    "ridge_model = Ridge(alpha = 5)"
   ]
  },
  {
   "cell_type": "code",
   "execution_count": 20,
   "id": "e0a98c6e",
   "metadata": {},
   "outputs": [],
   "source": [
    "ridge_model.fit(X_train, y_train)\n",
    "test_predictions = ridge_model.predict(X_test)"
   ]
  },
  {
   "cell_type": "code",
   "execution_count": 21,
   "id": "4a19f89a",
   "metadata": {},
   "outputs": [
    {
     "data": {
      "text/plain": [
       "0.3931122136987665"
      ]
     },
     "execution_count": 21,
     "metadata": {},
     "output_type": "execute_result"
    }
   ],
   "source": [
    "from sklearn.metrics import mean_absolute_error, mean_squared_error\n",
    "MAE = mean_absolute_error(y_test, test_predictions)\n",
    "MAE"
   ]
  },
  {
   "cell_type": "code",
   "execution_count": 22,
   "id": "5a543407",
   "metadata": {},
   "outputs": [
    {
     "data": {
      "text/plain": [
       "0.5578348973355702"
      ]
     },
     "execution_count": 22,
     "metadata": {},
     "output_type": "execute_result"
    }
   ],
   "source": [
    "RMSE = np.sqrt(mean_squared_error(y_test, test_predictions))\n",
    "RMSE"
   ]
  },
  {
   "cell_type": "code",
   "execution_count": 23,
   "id": "45007946",
   "metadata": {},
   "outputs": [],
   "source": [
    "from sklearn.linear_model import Lasso\n",
    "Lasso_model = Lasso(alpha=0.5)\n",
    "Lasso_model.fit(scaled_X_train,y_train)\n",
    "pred = Lasso_model.predict(scaled_X_test)\n"
   ]
  },
  {
   "cell_type": "code",
   "execution_count": 24,
   "id": "55380043",
   "metadata": {},
   "outputs": [
    {
     "data": {
      "text/plain": [
       "0.6373864852561884"
      ]
     },
     "execution_count": 24,
     "metadata": {},
     "output_type": "execute_result"
    }
   ],
   "source": [
    "from sklearn.metrics import mean_absolute_error, mean_squared_error\n",
    "MAE = mean_absolute_error(y_test, pred)\n",
    "MAE"
   ]
  },
  {
   "cell_type": "code",
   "execution_count": 25,
   "id": "a8b53550",
   "metadata": {},
   "outputs": [
    {
     "data": {
      "text/plain": [
       "1.0870276213670382"
      ]
     },
     "execution_count": 25,
     "metadata": {},
     "output_type": "execute_result"
    }
   ],
   "source": [
    "RMSE = np.sqrt(mean_squared_error(y_test, pred))\n",
    "RMSE"
   ]
  },
  {
   "cell_type": "code",
   "execution_count": null,
   "id": "e8a9df69",
   "metadata": {},
   "outputs": [],
   "source": []
  }
 ],
 "metadata": {
  "kernelspec": {
   "display_name": "Python 3 (ipykernel)",
   "language": "python",
   "name": "python3"
  },
  "language_info": {
   "codemirror_mode": {
    "name": "ipython",
    "version": 3
   },
   "file_extension": ".py",
   "mimetype": "text/x-python",
   "name": "python",
   "nbconvert_exporter": "python",
   "pygments_lexer": "ipython3",
   "version": "3.9.0"
  }
 },
 "nbformat": 4,
 "nbformat_minor": 5
}
